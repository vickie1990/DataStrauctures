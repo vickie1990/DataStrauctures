{
 "cells": [
  {
   "cell_type": "markdown",
   "id": "d446cdef",
   "metadata": {},
   "source": [
    "# IMDB Top Rated 100 Movies"
   ]
  },
  {
   "cell_type": "code",
   "execution_count": 5,
   "id": "eac844fe",
   "metadata": {},
   "outputs": [
    {
     "name": "stdout",
     "output_type": "stream",
     "text": [
      "Defaulting to user installation because normal site-packages is not writeable\n",
      "Requirement already satisfied: bs4 in c:\\users\\hp\\appdata\\roaming\\python\\python39\\site-packages (0.0.1)\n",
      "Requirement already satisfied: beautifulsoup4 in c:\\programdata\\anaconda3\\lib\\site-packages (from bs4) (4.11.1)\n",
      "Requirement already satisfied: soupsieve>1.2 in c:\\programdata\\anaconda3\\lib\\site-packages (from beautifulsoup4->bs4) (2.3.1)\n",
      "Defaulting to user installation because normal site-packages is not writeable\n",
      "Requirement already satisfied: requests in c:\\programdata\\anaconda3\\lib\\site-packages (2.28.1)\n",
      "Requirement already satisfied: charset-normalizer<3,>=2 in c:\\programdata\\anaconda3\\lib\\site-packages (from requests) (2.0.4)\n",
      "Requirement already satisfied: urllib3<1.27,>=1.21.1 in c:\\programdata\\anaconda3\\lib\\site-packages (from requests) (1.26.11)\n",
      "Requirement already satisfied: idna<4,>=2.5 in c:\\programdata\\anaconda3\\lib\\site-packages (from requests) (3.3)\n",
      "Requirement already satisfied: certifi>=2017.4.17 in c:\\programdata\\anaconda3\\lib\\site-packages (from requests) (2022.9.14)\n"
     ]
    }
   ],
   "source": [
    "!pip install bs4\n",
    "!pip install requests\n",
    "\n"
   ]
  },
  {
   "cell_type": "code",
   "execution_count": 4,
   "id": "d8cbbd3c",
   "metadata": {
    "scrolled": true
   },
   "outputs": [
    {
     "name": "stdout",
     "output_type": "stream",
     "text": [
      "Defaulting to user installation because normal site-packages is not writeable\n",
      "Requirement already satisfied: requests in c:\\programdata\\anaconda3\\lib\\site-packages (2.28.1)\n",
      "Requirement already satisfied: idna<4,>=2.5 in c:\\programdata\\anaconda3\\lib\\site-packages (from requests) (3.3)\n",
      "Requirement already satisfied: urllib3<1.27,>=1.21.1 in c:\\programdata\\anaconda3\\lib\\site-packages (from requests) (1.26.11)\n",
      "Requirement already satisfied: certifi>=2017.4.17 in c:\\programdata\\anaconda3\\lib\\site-packages (from requests) (2022.9.14)\n",
      "Requirement already satisfied: charset-normalizer<3,>=2 in c:\\programdata\\anaconda3\\lib\\site-packages (from requests) (2.0.4)\n",
      "Defaulting to user installation because normal site-packages is not writeable\n",
      "Requirement already satisfied: pandas in c:\\programdata\\anaconda3\\lib\\site-packages (1.4.4)\n",
      "Requirement already satisfied: pytz>=2020.1 in c:\\programdata\\anaconda3\\lib\\site-packages (from pandas) (2022.1)\n",
      "Requirement already satisfied: python-dateutil>=2.8.1 in c:\\programdata\\anaconda3\\lib\\site-packages (from pandas) (2.8.2)\n",
      "Requirement already satisfied: numpy>=1.18.5 in c:\\programdata\\anaconda3\\lib\\site-packages (from pandas) (1.21.5)\n",
      "Requirement already satisfied: six>=1.5 in c:\\programdata\\anaconda3\\lib\\site-packages (from python-dateutil>=2.8.1->pandas) (1.16.0)\n"
     ]
    }
   ],
   "source": [
    "!pip install pandas"
   ]
  },
  {
   "cell_type": "code",
   "execution_count": 51,
   "id": "5626783e",
   "metadata": {},
   "outputs": [],
   "source": [
    "import requests"
   ]
  },
  {
   "cell_type": "code",
   "execution_count": 53,
   "id": "4c3c6b53",
   "metadata": {},
   "outputs": [],
   "source": [
    "from requests import get"
   ]
  },
  {
   "cell_type": "code",
   "execution_count": 54,
   "id": "a66dc428",
   "metadata": {},
   "outputs": [],
   "source": [
    "from bs4 import BeautifulSoup"
   ]
  },
  {
   "cell_type": "code",
   "execution_count": 55,
   "id": "62ec7d5b",
   "metadata": {},
   "outputs": [],
   "source": [
    "import pandas as pd"
   ]
  },
  {
   "cell_type": "code",
   "execution_count": 56,
   "id": "87e9e2d0",
   "metadata": {},
   "outputs": [],
   "source": [
    "import numpy as np"
   ]
  },
  {
   "cell_type": "code",
   "execution_count": 82,
   "id": "0dacc797",
   "metadata": {},
   "outputs": [],
   "source": [
    "imdb_url = \"https://www.imdb.com/list/ls091520106/\""
   ]
  },
  {
   "cell_type": "code",
   "execution_count": 58,
   "id": "56db37e5",
   "metadata": {},
   "outputs": [],
   "source": [
    "headers = {\"Accept-Language\": \"en-US, en;q=0.5\"}"
   ]
  },
  {
   "cell_type": "code",
   "execution_count": 59,
   "id": "1afe1748",
   "metadata": {},
   "outputs": [],
   "source": [
    "results = requests.get(imdb_url, headers=headers)"
   ]
  },
  {
   "cell_type": "code",
   "execution_count": 60,
   "id": "f11520eb",
   "metadata": {},
   "outputs": [],
   "source": [
    "movie_soup = BeautifulSoup(results.text, \"html.parser\")"
   ]
  },
  {
   "cell_type": "code",
   "execution_count": 61,
   "id": "f669d827",
   "metadata": {},
   "outputs": [],
   "source": [
    "movie_name = []\n",
    "movie_years = []\n",
    "imdb_ratings = []\n"
   ]
  },
  {
   "cell_type": "code",
   "execution_count": 86,
   "id": "61e13681",
   "metadata": {},
   "outputs": [],
   "source": [
    "movie_div = movie_soup.find_all('div', class_='lister-item mode-detail')"
   ]
  },
  {
   "cell_type": "code",
   "execution_count": 116,
   "id": "f96dfcfa",
   "metadata": {},
   "outputs": [],
   "source": [
    "for container in movie_div:\n",
    "    name=container.find('div', class_='lister-item mode-detail')\n",
    "    movie_name.append(name)\n",
    " \n",
    "    years=container.find('span', class_='lister-item-year text-muted unbold').text\n",
    "    movie_years.append(years)\n",
    "    \n",
    "    imdb=container.find('span', class_='ipl-rating-star small')\n",
    "    imdb_ratings.append(imdb)\n",
    "        \n",
    "\n",
    "       \n",
    "        \n"
   ]
  },
  {
   "cell_type": "code",
   "execution_count": 117,
   "id": "48d5ff96",
   "metadata": {},
   "outputs": [
    {
     "data": {
      "text/html": [
       "<div>\n",
       "<style scoped>\n",
       "    .dataframe tbody tr th:only-of-type {\n",
       "        vertical-align: middle;\n",
       "    }\n",
       "\n",
       "    .dataframe tbody tr th {\n",
       "        vertical-align: top;\n",
       "    }\n",
       "\n",
       "    .dataframe thead th {\n",
       "        text-align: right;\n",
       "    }\n",
       "</style>\n",
       "<table border=\"1\" class=\"dataframe\">\n",
       "  <thead>\n",
       "    <tr style=\"text-align: right;\">\n",
       "      <th></th>\n",
       "      <th>movie_name</th>\n",
       "      <th>movie_years</th>\n",
       "      <th>imdb_ratings</th>\n",
       "    </tr>\n",
       "  </thead>\n",
       "  <tbody>\n",
       "    <tr>\n",
       "      <th>0</th>\n",
       "      <td>The Shawshank Redemption</td>\n",
       "      <td>(1994)</td>\n",
       "      <td>[\\n, [\\n, [\\n, &lt;svg class=\"ipl-icon ipl-star-i...</td>\n",
       "    </tr>\n",
       "    <tr>\n",
       "      <th>1</th>\n",
       "      <td>The Shawshank Redemption</td>\n",
       "      <td>(1994)</td>\n",
       "      <td>[\\n, [\\n, [\\n, &lt;svg class=\"ipl-icon ipl-star-i...</td>\n",
       "    </tr>\n",
       "    <tr>\n",
       "      <th>2</th>\n",
       "      <td>The Shawshank Redemption</td>\n",
       "      <td>(1972)</td>\n",
       "      <td>[\\n, [\\n, [\\n, &lt;svg class=\"ipl-icon ipl-star-i...</td>\n",
       "    </tr>\n",
       "    <tr>\n",
       "      <th>3</th>\n",
       "      <td>None</td>\n",
       "      <td>(1974)</td>\n",
       "      <td>[\\n, [\\n, [\\n, &lt;svg class=\"ipl-icon ipl-star-i...</td>\n",
       "    </tr>\n",
       "    <tr>\n",
       "      <th>4</th>\n",
       "      <td>None</td>\n",
       "      <td>(2008)</td>\n",
       "      <td>[\\n, [\\n, [\\n, &lt;svg class=\"ipl-icon ipl-star-i...</td>\n",
       "    </tr>\n",
       "    <tr>\n",
       "      <th>...</th>\n",
       "      <td>...</td>\n",
       "      <td>...</td>\n",
       "      <td>...</td>\n",
       "    </tr>\n",
       "    <tr>\n",
       "      <th>601</th>\n",
       "      <td>None</td>\n",
       "      <td>None</td>\n",
       "      <td>None</td>\n",
       "    </tr>\n",
       "    <tr>\n",
       "      <th>602</th>\n",
       "      <td>None</td>\n",
       "      <td>None</td>\n",
       "      <td>None</td>\n",
       "    </tr>\n",
       "    <tr>\n",
       "      <th>603</th>\n",
       "      <td>None</td>\n",
       "      <td>None</td>\n",
       "      <td>None</td>\n",
       "    </tr>\n",
       "    <tr>\n",
       "      <th>604</th>\n",
       "      <td>None</td>\n",
       "      <td>None</td>\n",
       "      <td>None</td>\n",
       "    </tr>\n",
       "    <tr>\n",
       "      <th>605</th>\n",
       "      <td>None</td>\n",
       "      <td>None</td>\n",
       "      <td>None</td>\n",
       "    </tr>\n",
       "  </tbody>\n",
       "</table>\n",
       "<p>606 rows × 3 columns</p>\n",
       "</div>"
      ],
      "text/plain": [
       "                   movie_name movie_years  \\\n",
       "0    The Shawshank Redemption      (1994)   \n",
       "1    The Shawshank Redemption      (1994)   \n",
       "2    The Shawshank Redemption      (1972)   \n",
       "3                        None      (1974)   \n",
       "4                        None      (2008)   \n",
       "..                        ...         ...   \n",
       "601                      None        None   \n",
       "602                      None        None   \n",
       "603                      None        None   \n",
       "604                      None        None   \n",
       "605                      None        None   \n",
       "\n",
       "                                          imdb_ratings  \n",
       "0    [\\n, [\\n, [\\n, <svg class=\"ipl-icon ipl-star-i...  \n",
       "1    [\\n, [\\n, [\\n, <svg class=\"ipl-icon ipl-star-i...  \n",
       "2    [\\n, [\\n, [\\n, <svg class=\"ipl-icon ipl-star-i...  \n",
       "3    [\\n, [\\n, [\\n, <svg class=\"ipl-icon ipl-star-i...  \n",
       "4    [\\n, [\\n, [\\n, <svg class=\"ipl-icon ipl-star-i...  \n",
       "..                                                 ...  \n",
       "601                                               None  \n",
       "602                                               None  \n",
       "603                                               None  \n",
       "604                                               None  \n",
       "605                                               None  \n",
       "\n",
       "[606 rows x 3 columns]"
      ]
     },
     "execution_count": 117,
     "metadata": {},
     "output_type": "execute_result"
    }
   ],
   "source": [
    "a = {'movie_name' : movie_name, 'movie_years' : movie_years, 'imdb_ratings' : imdb_ratings}\n",
    "\n",
    "df = pd.DataFrame.from_dict(a, orient='index')\n",
    "df.transpose()"
   ]
  },
  {
   "cell_type": "code",
   "execution_count": null,
   "id": "12bd99ba",
   "metadata": {},
   "outputs": [],
   "source": []
  },
  {
   "cell_type": "code",
   "execution_count": null,
   "id": "fed3fed2",
   "metadata": {},
   "outputs": [],
   "source": []
  },
  {
   "cell_type": "code",
   "execution_count": null,
   "id": "d2214825",
   "metadata": {},
   "outputs": [],
   "source": []
  }
 ],
 "metadata": {
  "kernelspec": {
   "display_name": "Python 3 (ipykernel)",
   "language": "python",
   "name": "python3"
  },
  "language_info": {
   "codemirror_mode": {
    "name": "ipython",
    "version": 3
   },
   "file_extension": ".py",
   "mimetype": "text/x-python",
   "name": "python",
   "nbconvert_exporter": "python",
   "pygments_lexer": "ipython3",
   "version": "3.9.13"
  }
 },
 "nbformat": 4,
 "nbformat_minor": 5
}
