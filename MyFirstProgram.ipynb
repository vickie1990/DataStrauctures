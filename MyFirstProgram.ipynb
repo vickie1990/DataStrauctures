{
 "cells": [
  {
   "cell_type": "code",
   "execution_count": 1,
   "id": "8386ab56",
   "metadata": {},
   "outputs": [
    {
     "data": {
      "text/plain": [
       "'Hello World!'"
      ]
     },
     "execution_count": 1,
     "metadata": {},
     "output_type": "execute_result"
    }
   ],
   "source": [
    "\"Hello World!\""
   ]
  },
  {
   "cell_type": "code",
   "execution_count": 2,
   "id": "99e01d93",
   "metadata": {},
   "outputs": [
    {
     "data": {
      "text/plain": [
       "24"
      ]
     },
     "execution_count": 2,
     "metadata": {},
     "output_type": "execute_result"
    }
   ],
   "source": [
    "12+12"
   ]
  },
  {
   "cell_type": "code",
   "execution_count": 3,
   "id": "6dc42180",
   "metadata": {},
   "outputs": [
    {
     "data": {
      "text/plain": [
       "60"
      ]
     },
     "execution_count": 3,
     "metadata": {},
     "output_type": "execute_result"
    }
   ],
   "source": [
    "12*5\n"
   ]
  },
  {
   "cell_type": "code",
   "execution_count": 4,
   "id": "823d62aa",
   "metadata": {},
   "outputs": [
    {
     "data": {
      "text/plain": [
       "2.4"
      ]
     },
     "execution_count": 4,
     "metadata": {},
     "output_type": "execute_result"
    }
   ],
   "source": [
    "12/5"
   ]
  },
  {
   "cell_type": "code",
   "execution_count": 5,
   "id": "f1d9d1ad",
   "metadata": {},
   "outputs": [
    {
     "data": {
      "text/plain": [
       "2"
      ]
     },
     "execution_count": 5,
     "metadata": {},
     "output_type": "execute_result"
    }
   ],
   "source": [
    "12//5"
   ]
  },
  {
   "cell_type": "code",
   "execution_count": 6,
   "id": "16b5708e",
   "metadata": {},
   "outputs": [
    {
     "data": {
      "text/plain": [
       "20"
      ]
     },
     "execution_count": 6,
     "metadata": {},
     "output_type": "execute_result"
    }
   ],
   "source": [
    "15+15*2//6"
   ]
  },
  {
   "cell_type": "code",
   "execution_count": 1,
   "id": "9398fcd5",
   "metadata": {},
   "outputs": [
    {
     "data": {
      "text/plain": [
       "True"
      ]
     },
     "execution_count": 1,
     "metadata": {},
     "output_type": "execute_result"
    }
   ],
   "source": [
    "40==40"
   ]
  },
  {
   "cell_type": "code",
   "execution_count": 2,
   "id": "cc6299f0",
   "metadata": {},
   "outputs": [
    {
     "data": {
      "text/plain": [
       "0"
      ]
     },
     "execution_count": 2,
     "metadata": {},
     "output_type": "execute_result"
    }
   ],
   "source": [
    "2-2"
   ]
  },
  {
   "cell_type": "code",
   "execution_count": 3,
   "id": "c73a992e",
   "metadata": {},
   "outputs": [
    {
     "data": {
      "text/plain": [
       "1"
      ]
     },
     "execution_count": 3,
     "metadata": {},
     "output_type": "execute_result"
    }
   ],
   "source": [
    "2-1"
   ]
  },
  {
   "cell_type": "code",
   "execution_count": 4,
   "id": "b3ce2b79",
   "metadata": {},
   "outputs": [
    {
     "data": {
      "text/plain": [
       "1.875"
      ]
     },
     "execution_count": 4,
     "metadata": {},
     "output_type": "execute_result"
    }
   ],
   "source": [
    "15/8"
   ]
  },
  {
   "cell_type": "code",
   "execution_count": 5,
   "id": "e7bab12e",
   "metadata": {},
   "outputs": [
    {
     "data": {
      "text/plain": [
       "1"
      ]
     },
     "execution_count": 5,
     "metadata": {},
     "output_type": "execute_result"
    }
   ],
   "source": [
    "15//8"
   ]
  },
  {
   "cell_type": "code",
   "execution_count": 6,
   "id": "e7238753",
   "metadata": {},
   "outputs": [
    {
     "data": {
      "text/plain": [
       "0"
      ]
     },
     "execution_count": 6,
     "metadata": {},
     "output_type": "execute_result"
    }
   ],
   "source": [
    "6%2"
   ]
  },
  {
   "cell_type": "code",
   "execution_count": 7,
   "id": "31ecc0d3",
   "metadata": {},
   "outputs": [
    {
     "data": {
      "text/plain": [
       "256"
      ]
     },
     "execution_count": 7,
     "metadata": {},
     "output_type": "execute_result"
    }
   ],
   "source": [
    "2**8"
   ]
  },
  {
   "cell_type": "code",
   "execution_count": 72,
   "id": "45b3077d",
   "metadata": {},
   "outputs": [
    {
     "data": {
      "text/plain": [
       "9"
      ]
     },
     "execution_count": 72,
     "metadata": {},
     "output_type": "execute_result"
    }
   ],
   "source": [
    "3**2 # three to the power of 2"
   ]
  },
  {
   "cell_type": "code",
   "execution_count": 10,
   "id": "70c85927",
   "metadata": {},
   "outputs": [
    {
     "data": {
      "text/plain": [
       "27"
      ]
     },
     "execution_count": 10,
     "metadata": {},
     "output_type": "execute_result"
    }
   ],
   "source": [
    "3**3"
   ]
  },
  {
   "cell_type": "code",
   "execution_count": 11,
   "id": "19d761cd",
   "metadata": {},
   "outputs": [
    {
     "data": {
      "text/plain": [
       "9"
      ]
     },
     "execution_count": 11,
     "metadata": {},
     "output_type": "execute_result"
    }
   ],
   "source": [
    "# floor division\n",
    "\n",
    "18//2"
   ]
  },
  {
   "cell_type": "markdown",
   "id": "fd63edb5",
   "metadata": {},
   "source": [
    "Working with variables work like container to hold the value"
   ]
  },
  {
   "cell_type": "markdown",
   "id": "57401956",
   "metadata": {},
   "source": [
    "a=10"
   ]
  },
  {
   "cell_type": "code",
   "execution_count": 13,
   "id": "f7b90fd0",
   "metadata": {},
   "outputs": [],
   "source": [
    "a=10"
   ]
  },
  {
   "cell_type": "code",
   "execution_count": 14,
   "id": "02f4a8a6",
   "metadata": {},
   "outputs": [
    {
     "data": {
      "text/plain": [
       "10"
      ]
     },
     "execution_count": 14,
     "metadata": {},
     "output_type": "execute_result"
    }
   ],
   "source": [
    "a"
   ]
  },
  {
   "cell_type": "code",
   "execution_count": 15,
   "id": "d77cbf9d",
   "metadata": {},
   "outputs": [],
   "source": [
    "b=5\n"
   ]
  },
  {
   "cell_type": "code",
   "execution_count": 16,
   "id": "1e4ded37",
   "metadata": {},
   "outputs": [
    {
     "data": {
      "text/plain": [
       "5"
      ]
     },
     "execution_count": 16,
     "metadata": {},
     "output_type": "execute_result"
    }
   ],
   "source": [
    "b"
   ]
  },
  {
   "cell_type": "code",
   "execution_count": 17,
   "id": "f1fbbf50",
   "metadata": {},
   "outputs": [
    {
     "data": {
      "text/plain": [
       "50"
      ]
     },
     "execution_count": 17,
     "metadata": {},
     "output_type": "execute_result"
    }
   ],
   "source": [
    "a*b"
   ]
  },
  {
   "cell_type": "code",
   "execution_count": 19,
   "id": "c5936741",
   "metadata": {},
   "outputs": [],
   "source": [
    "c=a+b"
   ]
  },
  {
   "cell_type": "code",
   "execution_count": 20,
   "id": "0a254ad6",
   "metadata": {},
   "outputs": [
    {
     "data": {
      "text/plain": [
       "15"
      ]
     },
     "execution_count": 20,
     "metadata": {},
     "output_type": "execute_result"
    }
   ],
   "source": [
    "c"
   ]
  },
  {
   "cell_type": "code",
   "execution_count": 21,
   "id": "685c3e36",
   "metadata": {},
   "outputs": [],
   "source": [
    "d=a-b"
   ]
  },
  {
   "cell_type": "code",
   "execution_count": 22,
   "id": "45c74450",
   "metadata": {},
   "outputs": [
    {
     "data": {
      "text/plain": [
       "5"
      ]
     },
     "execution_count": 22,
     "metadata": {},
     "output_type": "execute_result"
    }
   ],
   "source": [
    "d"
   ]
  },
  {
   "cell_type": "code",
   "execution_count": 23,
   "id": "b9820ce2",
   "metadata": {},
   "outputs": [
    {
     "name": "stdout",
     "output_type": "stream",
     "text": [
      "15\n"
     ]
    }
   ],
   "source": [
    "print(c)"
   ]
  },
  {
   "cell_type": "code",
   "execution_count": 24,
   "id": "1f1c29e9",
   "metadata": {},
   "outputs": [
    {
     "name": "stdout",
     "output_type": "stream",
     "text": [
      "c=\n"
     ]
    }
   ],
   "source": [
    "print(\"c=\")"
   ]
  },
  {
   "cell_type": "code",
   "execution_count": 25,
   "id": "6dff3c9a",
   "metadata": {},
   "outputs": [
    {
     "name": "stdout",
     "output_type": "stream",
     "text": [
      "c= 15\n"
     ]
    }
   ],
   "source": [
    "print(\"c=\",c)"
   ]
  },
  {
   "cell_type": "code",
   "execution_count": 26,
   "id": "1e5ef51d",
   "metadata": {},
   "outputs": [
    {
     "data": {
      "text/plain": [
       "'99'"
      ]
     },
     "execution_count": 26,
     "metadata": {},
     "output_type": "execute_result"
    }
   ],
   "source": [
    "\"9\"+\"9\""
   ]
  },
  {
   "cell_type": "code",
   "execution_count": 27,
   "id": "18980ce6",
   "metadata": {},
   "outputs": [
    {
     "data": {
      "text/plain": [
       "'vinayakpatil'"
      ]
     },
     "execution_count": 27,
     "metadata": {},
     "output_type": "execute_result"
    }
   ],
   "source": [
    "\"vinayak\"+\"patil\""
   ]
  },
  {
   "cell_type": "code",
   "execution_count": 29,
   "id": "d8ecc639",
   "metadata": {},
   "outputs": [
    {
     "data": {
      "text/plain": [
       "'mangaonraigad'"
      ]
     },
     "execution_count": 29,
     "metadata": {},
     "output_type": "execute_result"
    }
   ],
   "source": [
    "\"mangaon\"+\"raigad\""
   ]
  },
  {
   "cell_type": "markdown",
   "id": "4592e859",
   "metadata": {},
   "source": [
    "Bollean command"
   ]
  },
  {
   "cell_type": "code",
   "execution_count": 30,
   "id": "344b68c1",
   "metadata": {},
   "outputs": [
    {
     "data": {
      "text/plain": [
       "True"
      ]
     },
     "execution_count": 30,
     "metadata": {},
     "output_type": "execute_result"
    }
   ],
   "source": [
    "50==50"
   ]
  },
  {
   "cell_type": "code",
   "execution_count": 31,
   "id": "ba74b79c",
   "metadata": {},
   "outputs": [
    {
     "data": {
      "text/plain": [
       "True"
      ]
     },
     "execution_count": 31,
     "metadata": {},
     "output_type": "execute_result"
    }
   ],
   "source": [
    "40>4"
   ]
  },
  {
   "cell_type": "code",
   "execution_count": 32,
   "id": "4b611cbd",
   "metadata": {},
   "outputs": [
    {
     "data": {
      "text/plain": [
       "False"
      ]
     },
     "execution_count": 32,
     "metadata": {},
     "output_type": "execute_result"
    }
   ],
   "source": [
    "40<4"
   ]
  },
  {
   "cell_type": "code",
   "execution_count": 35,
   "id": "bbc04396",
   "metadata": {},
   "outputs": [
    {
     "data": {
      "text/plain": [
       "True"
      ]
     },
     "execution_count": 35,
     "metadata": {},
     "output_type": "execute_result"
    }
   ],
   "source": [
    "40==40>4"
   ]
  },
  {
   "cell_type": "code",
   "execution_count": 37,
   "id": "2de2b65d",
   "metadata": {},
   "outputs": [],
   "source": [
    "x=10"
   ]
  },
  {
   "cell_type": "code",
   "execution_count": 38,
   "id": "57a34e7f",
   "metadata": {},
   "outputs": [],
   "source": [
    "y=20"
   ]
  },
  {
   "cell_type": "code",
   "execution_count": 39,
   "id": "529c9551",
   "metadata": {},
   "outputs": [
    {
     "data": {
      "text/plain": [
       "False"
      ]
     },
     "execution_count": 39,
     "metadata": {},
     "output_type": "execute_result"
    }
   ],
   "source": [
    "x==y"
   ]
  },
  {
   "cell_type": "code",
   "execution_count": 40,
   "id": "e293e515",
   "metadata": {},
   "outputs": [
    {
     "data": {
      "text/plain": [
       "False"
      ]
     },
     "execution_count": 40,
     "metadata": {},
     "output_type": "execute_result"
    }
   ],
   "source": [
    "x>y"
   ]
  },
  {
   "cell_type": "code",
   "execution_count": 41,
   "id": "8de26734",
   "metadata": {},
   "outputs": [
    {
     "data": {
      "text/plain": [
       "True"
      ]
     },
     "execution_count": 41,
     "metadata": {},
     "output_type": "execute_result"
    }
   ],
   "source": [
    "x<y"
   ]
  },
  {
   "cell_type": "code",
   "execution_count": 42,
   "id": "d89bf8ab",
   "metadata": {},
   "outputs": [
    {
     "data": {
      "text/plain": [
       "True"
      ]
     },
     "execution_count": 42,
     "metadata": {},
     "output_type": "execute_result"
    }
   ],
   "source": [
    "x!=y"
   ]
  },
  {
   "cell_type": "code",
   "execution_count": 43,
   "id": "8860373a",
   "metadata": {},
   "outputs": [
    {
     "data": {
      "text/plain": [
       "int"
      ]
     },
     "execution_count": 43,
     "metadata": {},
     "output_type": "execute_result"
    }
   ],
   "source": [
    "type(20)"
   ]
  },
  {
   "cell_type": "code",
   "execution_count": 44,
   "id": "4d51b9e7",
   "metadata": {},
   "outputs": [
    {
     "data": {
      "text/plain": [
       "float"
      ]
     },
     "execution_count": 44,
     "metadata": {},
     "output_type": "execute_result"
    }
   ],
   "source": [
    "type(20.5)"
   ]
  },
  {
   "cell_type": "code",
   "execution_count": 46,
   "id": "768da614",
   "metadata": {},
   "outputs": [
    {
     "data": {
      "text/plain": [
       "int"
      ]
     },
     "execution_count": 46,
     "metadata": {},
     "output_type": "execute_result"
    }
   ],
   "source": [
    "type(66)"
   ]
  },
  {
   "cell_type": "code",
   "execution_count": 47,
   "id": "88e155eb",
   "metadata": {},
   "outputs": [
    {
     "data": {
      "text/plain": [
       "str"
      ]
     },
     "execution_count": 47,
     "metadata": {},
     "output_type": "execute_result"
    }
   ],
   "source": [
    "type(\"mobile\")"
   ]
  },
  {
   "cell_type": "code",
   "execution_count": 48,
   "id": "26201103",
   "metadata": {},
   "outputs": [],
   "source": [
    "p=30"
   ]
  },
  {
   "cell_type": "code",
   "execution_count": 49,
   "id": "7bd9106e",
   "metadata": {},
   "outputs": [
    {
     "data": {
      "text/plain": [
       "int"
      ]
     },
     "execution_count": 49,
     "metadata": {},
     "output_type": "execute_result"
    }
   ],
   "source": [
    "type(p)"
   ]
  },
  {
   "cell_type": "code",
   "execution_count": 50,
   "id": "fb5f9250",
   "metadata": {},
   "outputs": [
    {
     "data": {
      "text/plain": [
       "str"
      ]
     },
     "execution_count": 50,
     "metadata": {},
     "output_type": "execute_result"
    }
   ],
   "source": [
    "type(\"p\")"
   ]
  },
  {
   "cell_type": "markdown",
   "id": "92e3a61e",
   "metadata": {},
   "source": [
    "typecasing"
   ]
  },
  {
   "cell_type": "code",
   "execution_count": 51,
   "id": "17cae160",
   "metadata": {},
   "outputs": [
    {
     "data": {
      "text/plain": [
       "10.0"
      ]
     },
     "execution_count": 51,
     "metadata": {},
     "output_type": "execute_result"
    }
   ],
   "source": [
    "float(a)"
   ]
  },
  {
   "cell_type": "code",
   "execution_count": 52,
   "id": "f966cad1",
   "metadata": {},
   "outputs": [
    {
     "data": {
      "text/plain": [
       "30.0"
      ]
     },
     "execution_count": 52,
     "metadata": {},
     "output_type": "execute_result"
    }
   ],
   "source": [
    "float(p)"
   ]
  },
  {
   "cell_type": "code",
   "execution_count": 53,
   "id": "3025527f",
   "metadata": {},
   "outputs": [
    {
     "data": {
      "text/plain": [
       "78.0"
      ]
     },
     "execution_count": 53,
     "metadata": {},
     "output_type": "execute_result"
    }
   ],
   "source": [
    "float(78)"
   ]
  },
  {
   "cell_type": "code",
   "execution_count": 54,
   "id": "f401e1b3",
   "metadata": {},
   "outputs": [
    {
     "data": {
      "text/plain": [
       "77"
      ]
     },
     "execution_count": 54,
     "metadata": {},
     "output_type": "execute_result"
    }
   ],
   "source": [
    "int(77.66)"
   ]
  },
  {
   "cell_type": "code",
   "execution_count": 55,
   "id": "182e260b",
   "metadata": {},
   "outputs": [
    {
     "name": "stdout",
     "output_type": "stream",
     "text": [
      "Your City NameMumbai\n"
     ]
    },
    {
     "data": {
      "text/plain": [
       "'Mumbai'"
      ]
     },
     "execution_count": 55,
     "metadata": {},
     "output_type": "execute_result"
    }
   ],
   "source": [
    "city=input(\"Your City Name\")\n",
    "city"
   ]
  },
  {
   "cell_type": "markdown",
   "id": "6b7109b2",
   "metadata": {},
   "source": [
    "name=input(\"Your Name\")\n",
    "name"
   ]
  },
  {
   "cell_type": "code",
   "execution_count": 56,
   "id": "055ce476",
   "metadata": {},
   "outputs": [
    {
     "name": "stdout",
     "output_type": "stream",
     "text": [
      "your name isvinayak\n"
     ]
    },
    {
     "data": {
      "text/plain": [
       "'vinayak'"
      ]
     },
     "execution_count": 56,
     "metadata": {},
     "output_type": "execute_result"
    }
   ],
   "source": [
    "name=input(\"your name is\")\n",
    "name"
   ]
  },
  {
   "cell_type": "code",
   "execution_count": 57,
   "id": "1b4bb1c4",
   "metadata": {},
   "outputs": [
    {
     "data": {
      "text/plain": [
       "7"
      ]
     },
     "execution_count": 57,
     "metadata": {},
     "output_type": "execute_result"
    }
   ],
   "source": [
    "len(\"vinayak\")"
   ]
  },
  {
   "cell_type": "code",
   "execution_count": 58,
   "id": "d06bcbf7",
   "metadata": {},
   "outputs": [
    {
     "data": {
      "text/plain": [
       "9"
      ]
     },
     "execution_count": 58,
     "metadata": {},
     "output_type": "execute_result"
    }
   ],
   "source": [
    "len(\"i am good\")"
   ]
  },
  {
   "cell_type": "code",
   "execution_count": 60,
   "id": "70cc450d",
   "metadata": {},
   "outputs": [],
   "source": [
    "vinayak=\"i am good\""
   ]
  },
  {
   "cell_type": "code",
   "execution_count": 62,
   "id": "e49e9acb",
   "metadata": {},
   "outputs": [
    {
     "data": {
      "text/plain": [
       "9"
      ]
     },
     "execution_count": 62,
     "metadata": {},
     "output_type": "execute_result"
    }
   ],
   "source": [
    "len(\"i am good\")"
   ]
  },
  {
   "cell_type": "code",
   "execution_count": 63,
   "id": "ebdd047d",
   "metadata": {},
   "outputs": [
    {
     "data": {
      "text/plain": [
       "7"
      ]
     },
     "execution_count": 63,
     "metadata": {},
     "output_type": "execute_result"
    }
   ],
   "source": [
    "len(\"vinayak\")"
   ]
  },
  {
   "cell_type": "code",
   "execution_count": 71,
   "id": "f53691be",
   "metadata": {},
   "outputs": [
    {
     "name": "stdout",
     "output_type": "stream",
     "text": [
      "enter length55\n",
      "enter breadth22\n",
      "area of rectangle 1210\n"
     ]
    }
   ],
   "source": [
    "\n",
    "\n",
    "lenght=int(input(\"enter length\"))\n",
    "breadth=int(input(\"enter breadth\"))\n",
    "area=length*breadth\n",
    "\n",
    "print(\"area of rectangle\",area)\n",
    "           "
   ]
  },
  {
   "cell_type": "code",
   "execution_count": 66,
   "id": "1a62c5b7",
   "metadata": {},
   "outputs": [],
   "source": [
    "length=55"
   ]
  },
  {
   "cell_type": "code",
   "execution_count": 67,
   "id": "5600ac1e",
   "metadata": {},
   "outputs": [],
   "source": [
    "breadth=22"
   ]
  },
  {
   "cell_type": "code",
   "execution_count": 70,
   "id": "3841b654",
   "metadata": {},
   "outputs": [
    {
     "name": "stdout",
     "output_type": "stream",
     "text": [
      "enter length88\n",
      "enter breadth36\n",
      "area of rectangle 1980\n"
     ]
    }
   ],
   "source": [
    "lenght=int(input(\"enter length\"))\n",
    "breadth=int(input(\"enter breadth\"))\n",
    "area=length*breadth\n",
    "\n",
    "print(\"area of rectangle\",area)"
   ]
  },
  {
   "cell_type": "code",
   "execution_count": 73,
   "id": "741a8095",
   "metadata": {},
   "outputs": [],
   "source": [
    "width=20"
   ]
  },
  {
   "cell_type": "code",
   "execution_count": 74,
   "id": "ea83c26a",
   "metadata": {},
   "outputs": [],
   "source": [
    "height=5.9"
   ]
  },
  {
   "cell_type": "code",
   "execution_count": 75,
   "id": "ab8b6691",
   "metadata": {},
   "outputs": [
    {
     "data": {
      "text/plain": [
       "118.0"
      ]
     },
     "execution_count": 75,
     "metadata": {},
     "output_type": "execute_result"
    }
   ],
   "source": [
    "width*height"
   ]
  },
  {
   "cell_type": "code",
   "execution_count": 78,
   "id": "2b398c69",
   "metadata": {},
   "outputs": [
    {
     "data": {
      "text/plain": [
       "3.0"
      ]
     },
     "execution_count": 78,
     "metadata": {},
     "output_type": "execute_result"
    }
   ],
   "source": [
    "width//height"
   ]
  },
  {
   "cell_type": "code",
   "execution_count": 79,
   "id": "4ccecd18",
   "metadata": {},
   "outputs": [
    {
     "name": "stdout",
     "output_type": "stream",
     "text": [
      "20\n"
     ]
    }
   ],
   "source": [
    "print(width)"
   ]
  },
  {
   "cell_type": "code",
   "execution_count": 82,
   "id": "9d96dafe",
   "metadata": {},
   "outputs": [
    {
     "name": "stdout",
     "output_type": "stream",
     "text": [
      "The value of width= 20\n",
      "The value of width= 20\n",
      "value= 118.0\n"
     ]
    }
   ],
   "source": [
    "print('The value of width=', width) #use singlr qote\n",
    "print(\"The value of width=\", width) #use double qote\n",
    "\n",
    "print(\"value=\",width*height)"
   ]
  },
  {
   "cell_type": "code",
   "execution_count": 84,
   "id": "e1c71268",
   "metadata": {},
   "outputs": [],
   "source": [
    "tax=12.5/100"
   ]
  },
  {
   "cell_type": "code",
   "execution_count": 86,
   "id": "66fa5d1d",
   "metadata": {},
   "outputs": [],
   "source": [
    "price=100.50"
   ]
  },
  {
   "cell_type": "code",
   "execution_count": 87,
   "id": "712cd846",
   "metadata": {},
   "outputs": [
    {
     "data": {
      "text/plain": [
       "12.5625"
      ]
     },
     "execution_count": 87,
     "metadata": {},
     "output_type": "execute_result"
    }
   ],
   "source": [
    "price*tax"
   ]
  },
  {
   "cell_type": "code",
   "execution_count": 88,
   "id": "8a5002be",
   "metadata": {},
   "outputs": [
    {
     "name": "stdout",
     "output_type": "stream",
     "text": [
      "The value of tax= 0.126\n",
      "The value of price= 100.6\n",
      "value 12.6756\n"
     ]
    }
   ],
   "source": [
    "tax=12.6/100\n",
    "price=100.6\n",
    "price*tax\n",
    "\n",
    "print(\"The value of tax=\", tax)\n",
    "print(\"The value of price=\", price)\n",
    "\n",
    "print(\"value\", price*tax)"
   ]
  },
  {
   "cell_type": "code",
   "execution_count": 89,
   "id": "7a61188d",
   "metadata": {},
   "outputs": [],
   "source": [
    "string1=\"Elon\"\n",
    "string2=\"Musk\""
   ]
  },
  {
   "cell_type": "code",
   "execution_count": 95,
   "id": "216acc1c",
   "metadata": {},
   "outputs": [],
   "source": [
    "magic_string=string1+string2"
   ]
  },
  {
   "cell_type": "code",
   "execution_count": 96,
   "id": "850a16d7",
   "metadata": {},
   "outputs": [
    {
     "data": {
      "text/plain": [
       "'ElonMusk'"
      ]
     },
     "execution_count": 96,
     "metadata": {},
     "output_type": "execute_result"
    }
   ],
   "source": [
    "magic_string"
   ]
  },
  {
   "cell_type": "code",
   "execution_count": 92,
   "id": "fbfdcf8b",
   "metadata": {},
   "outputs": [
    {
     "data": {
      "text/plain": [
       "'TheSun'"
      ]
     },
     "execution_count": 92,
     "metadata": {},
     "output_type": "execute_result"
    }
   ],
   "source": [
    "\"The\"+\"Sun\""
   ]
  },
  {
   "cell_type": "code",
   "execution_count": 102,
   "id": "2293e2a4",
   "metadata": {},
   "outputs": [],
   "source": [
    "first_name=\"vinayak\"\n",
    "last_name=\"patil\"\n",
    "\n",
    "full_name=first_name+\" \"+last_name\n"
   ]
  },
  {
   "cell_type": "code",
   "execution_count": 103,
   "id": "aaef363f",
   "metadata": {},
   "outputs": [
    {
     "data": {
      "text/plain": [
       "'vinayak patil'"
      ]
     },
     "execution_count": 103,
     "metadata": {},
     "output_type": "execute_result"
    }
   ],
   "source": [
    "full_name"
   ]
  },
  {
   "cell_type": "code",
   "execution_count": 118,
   "id": "dbef03d5",
   "metadata": {},
   "outputs": [
    {
     "name": "stdout",
     "output_type": "stream",
     "text": [
      "str\n",
      "the value of str= vinayak patil\n"
     ]
    }
   ],
   "source": [
    "str1=\"vinayak\"\n",
    "str2=\"patil\"\n",
    "\n",
    "str=str1+\" \"+str2\n",
    "\n",
    "print(\"str\")\n",
    "print(\"the value of str=\", str)"
   ]
  },
  {
   "cell_type": "code",
   "execution_count": 119,
   "id": "5c6bf3e1",
   "metadata": {},
   "outputs": [
    {
     "data": {
      "text/plain": [
       "'vinayak patil'"
      ]
     },
     "execution_count": 119,
     "metadata": {},
     "output_type": "execute_result"
    }
   ],
   "source": [
    "str"
   ]
  },
  {
   "cell_type": "markdown",
   "id": "fad68216",
   "metadata": {},
   "source": [
    "# User Inputs"
   ]
  },
  {
   "cell_type": "code",
   "execution_count": 120,
   "id": "b2c64c56",
   "metadata": {},
   "outputs": [
    {
     "name": "stdout",
     "output_type": "stream",
     "text": [
      "Hey,What's up?hi vinayak\n",
      "You Said:hi vinayak\n"
     ]
    }
   ],
   "source": [
    "prompt=\"Hey,What's up?\"\n",
    "\n",
    "user_input=input(prompt)\n",
    "\n",
    "print(\"You Said:\"+ user_input)"
   ]
  },
  {
   "cell_type": "code",
   "execution_count": 122,
   "id": "a242b06f",
   "metadata": {},
   "outputs": [
    {
     "name": "stdout",
     "output_type": "stream",
     "text": [
      "double that number:6\n",
      "66\n"
     ]
    }
   ],
   "source": [
    "num=input(\"double that number:\")\n",
    "double_num=num*2\n",
    "\n",
    "print(double_num)"
   ]
  },
  {
   "cell_type": "markdown",
   "id": "0e15568b",
   "metadata": {},
   "source": [
    "Excersise"
   ]
  },
  {
   "cell_type": "code",
   "execution_count": 123,
   "id": "78411f88",
   "metadata": {},
   "outputs": [],
   "source": [
    "plane_cost=5000\n",
    "total_people_signed_up=29\n",
    "ticket_cost=200\n",
    "\n",
    "amount_received_by_the_company=total_people_signed_up*ticket_cost\n"
   ]
  },
  {
   "cell_type": "code",
   "execution_count": 125,
   "id": "9be1d20d",
   "metadata": {},
   "outputs": [],
   "source": [
    "total_profit=amount_received_by_the_company-plane_cost"
   ]
  },
  {
   "cell_type": "code",
   "execution_count": 126,
   "id": "fe7a2833",
   "metadata": {},
   "outputs": [
    {
     "data": {
      "text/plain": [
       "800"
      ]
     },
     "execution_count": 126,
     "metadata": {},
     "output_type": "execute_result"
    }
   ],
   "source": [
    "total_profit"
   ]
  },
  {
   "cell_type": "code",
   "execution_count": null,
   "id": "7864ca3d",
   "metadata": {},
   "outputs": [],
   "source": []
  }
 ],
 "metadata": {
  "kernelspec": {
   "display_name": "Python 3 (ipykernel)",
   "language": "python",
   "name": "python3"
  },
  "language_info": {
   "codemirror_mode": {
    "name": "ipython",
    "version": 3
   },
   "file_extension": ".py",
   "mimetype": "text/x-python",
   "name": "python",
   "nbconvert_exporter": "python",
   "pygments_lexer": "ipython3",
   "version": "3.9.13"
  }
 },
 "nbformat": 4,
 "nbformat_minor": 5
}
