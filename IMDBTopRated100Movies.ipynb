{
 "cells": [
  {
   "cell_type": "code",
   "execution_count": 4,
   "id": "c182d5f6",
   "metadata": {},
   "outputs": [
    {
     "name": "stdout",
     "output_type": "stream",
     "text": [
      "Defaulting to user installation because normal site-packages is not writeable\n",
      "Requirement already satisfied: bs4 in c:\\users\\hp\\appdata\\roaming\\python\\python39\\site-packages (0.0.1)\n",
      "Requirement already satisfied: beautifulsoup4 in c:\\programdata\\anaconda3\\lib\\site-packages (from bs4) (4.11.1)\n",
      "Requirement already satisfied: soupsieve>1.2 in c:\\programdata\\anaconda3\\lib\\site-packages (from beautifulsoup4->bs4) (2.3.1)\n",
      "Defaulting to user installation because normal site-packages is not writeable\n",
      "Requirement already satisfied: requests in c:\\programdata\\anaconda3\\lib\\site-packages (2.28.1)\n",
      "Requirement already satisfied: idna<4,>=2.5 in c:\\programdata\\anaconda3\\lib\\site-packages (from requests) (3.3)\n",
      "Requirement already satisfied: urllib3<1.27,>=1.21.1 in c:\\programdata\\anaconda3\\lib\\site-packages (from requests) (1.26.11)\n",
      "Requirement already satisfied: certifi>=2017.4.17 in c:\\programdata\\anaconda3\\lib\\site-packages (from requests) (2022.9.14)\n",
      "Requirement already satisfied: charset-normalizer<3,>=2 in c:\\programdata\\anaconda3\\lib\\site-packages (from requests) (2.0.4)\n"
     ]
    }
   ],
   "source": [
    "!pip install bs4\n",
    "!pip install requests"
   ]
  },
  {
   "cell_type": "code",
   "execution_count": 5,
   "id": "cbd4aa4d",
   "metadata": {},
   "outputs": [],
   "source": [
    "import requests"
   ]
  },
  {
   "cell_type": "code",
   "execution_count": 56,
   "id": "09939ddd",
   "metadata": {},
   "outputs": [],
   "source": [
    "topics_url = ('https://www.imdb.com/search/title/?groups=top_100&sort=user_rating,desc')\n"
   ]
  },
  {
   "cell_type": "code",
   "execution_count": 57,
   "id": "f0b86fc2",
   "metadata": {},
   "outputs": [],
   "source": [
    "response = requests.get(topics_url)"
   ]
  },
  {
   "cell_type": "code",
   "execution_count": 58,
   "id": "03db63ac",
   "metadata": {},
   "outputs": [],
   "source": [
    "page_content = response.text"
   ]
  },
  {
   "cell_type": "code",
   "execution_count": 91,
   "id": "aff69f1f",
   "metadata": {},
   "outputs": [
    {
     "data": {
      "text/plain": [
       "'\\n\\n<!DOCTYPE html>\\n<html\\n    xmlns:og=\"http://ogp.me/ns#\"\\n    xmlns:fb=\"http://www.facebook.com/2008/fbml\">\\n    <head>\\n         \\n\\n        <meta charset=\"utf-8\">\\n\\n\\n\\n\\n        <script type=\"text/javascript\">var IMDbTimer={starttime: new Date().getTime(),pt:\\'java\\'};</script>\\n\\n<script>\\n    if (typeof uet == \\'function\\') {\\n      uet(\"bb\", \"LoadTitle\", {wb: 1});\\n    }\\n</script>\\n  <script>(function(t){ (t.events = t.events || {})[\"csm_head_pre_title\"] = new Date().getTime(); })(IMDbTimer);</script>\\n      '"
      ]
     },
     "execution_count": 91,
     "metadata": {},
     "output_type": "execute_result"
    }
   ],
   "source": [
    "page_content[:500]"
   ]
  },
  {
   "cell_type": "code",
   "execution_count": 7,
   "id": "0004d624",
   "metadata": {},
   "outputs": [],
   "source": [
    "from bs4 import BeautifulSoup"
   ]
  },
  {
   "cell_type": "code",
   "execution_count": 9,
   "id": "9f716b98",
   "metadata": {},
   "outputs": [],
   "source": [
    "import pandas as pd"
   ]
  },
  {
   "cell_type": "code",
   "execution_count": 60,
   "id": "5bf7e623",
   "metadata": {},
   "outputs": [],
   "source": [
    "doc = BeautifulSoup(response.text, 'html.parser')\n",
    "\n"
   ]
  },
  {
   "cell_type": "code",
   "execution_count": 61,
   "id": "93a0959f",
   "metadata": {},
   "outputs": [
    {
     "data": {
      "text/plain": [
       "<title>IMDb \"Top 100\"\n",
       "(Sorted by IMDb Rating Descending) - IMDb</title>"
      ]
     },
     "execution_count": 61,
     "metadata": {},
     "output_type": "execute_result"
    }
   ],
   "source": [
    "doc.find('title')\n",
    "\n"
   ]
  },
  {
   "cell_type": "code",
   "execution_count": 62,
   "id": "6167d3ce",
   "metadata": {},
   "outputs": [],
   "source": [
    "def get_topics_page():\n",
    "    # TODO - add comments\n",
    "    topic_url = 'https://www.imdb.com/search/title/?groups=top_100&sort=user_rating,desc'\n",
    "    response=requests.get(topic_url)\n",
    "    # check successfull response\n",
    "    if response.status_code != 200:\n",
    "        raise Exception(f'Failed to load page {topic_url}')\n",
    "    # Parse using BeautifulSoup\n",
    "    doc = BeautifulSoup(response.text, 'html.parser')\n",
    "    return doc"
   ]
  },
  {
   "cell_type": "code",
   "execution_count": 63,
   "id": "cdba6995",
   "metadata": {},
   "outputs": [],
   "source": [
    "doc=get_topics_page()"
   ]
  },
  {
   "cell_type": "code",
   "execution_count": 64,
   "id": "94aab03f",
   "metadata": {},
   "outputs": [],
   "source": [
    "def get_movie_titles(doc):\n",
    "    \n",
    "    selection_class=\"lister-item-header\"\n",
    "    movie_title_tags=doc.find_all('h3',{'class':selection_class})\n",
    "    movie_titles=[]\n",
    "\n",
    "    for tag in movie_title_tags:\n",
    "        title = tag.find('a').text\n",
    "        movie_titles.append(title)\n",
    "        \n",
    "        \n",
    "    return movie_titles"
   ]
  },
  {
   "cell_type": "code",
   "execution_count": 65,
   "id": "82d40475",
   "metadata": {},
   "outputs": [],
   "source": [
    "titles = get_movie_titles(doc)"
   ]
  },
  {
   "cell_type": "code",
   "execution_count": 92,
   "id": "b32411b5",
   "metadata": {},
   "outputs": [
    {
     "data": {
      "text/plain": [
       "['The Shawshank Redemption',\n",
       " 'The Godfather',\n",
       " 'The Dark Knight',\n",
       " 'The Lord of the Rings: The Return of the King',\n",
       " \"Schindler's List\"]"
      ]
     },
     "execution_count": 92,
     "metadata": {},
     "output_type": "execute_result"
    }
   ],
   "source": [
    "titles[:5]"
   ]
  },
  {
   "cell_type": "code",
   "execution_count": 67,
   "id": "1c245fc9",
   "metadata": {},
   "outputs": [],
   "source": [
    "def get_movie_year(doc):\n",
    "    year_selector = \"lister-item-year text-muted unbold\"           \n",
    "    movie_year_tags=doc.find_all('span',{'class':year_selector})\n",
    "    movie_year_tagss=[]\n",
    "    for tag in movie_year_tags:\n",
    "        movie_year_tagss.append(tag.get_text().strip()[1:5])\n",
    "    return movie_year_tagss"
   ]
  },
  {
   "cell_type": "code",
   "execution_count": 68,
   "id": "8539f9e2",
   "metadata": {},
   "outputs": [],
   "source": [
    "years = get_movie_year(doc)"
   ]
  },
  {
   "cell_type": "code",
   "execution_count": 93,
   "id": "8065e265",
   "metadata": {},
   "outputs": [
    {
     "data": {
      "text/plain": [
       "['1994', '1972', '2008', '2003', '1993']"
      ]
     },
     "execution_count": 93,
     "metadata": {},
     "output_type": "execute_result"
    }
   ],
   "source": [
    "years[:5]"
   ]
  },
  {
   "cell_type": "code",
   "execution_count": 70,
   "id": "fdb1c73a",
   "metadata": {},
   "outputs": [],
   "source": [
    "def get_movie_rating(doc):\n",
    "    rating_selector=\"inline-block ratings-imdb-rating\"            \n",
    "    movie_rating_tags=doc.find_all('div',{'class':rating_selector})\n",
    "    movie_rating_tagss=[]\n",
    "    for tag in movie_rating_tags:\n",
    "        movie_rating_tagss.append(tag.get_text().strip())\n",
    "    return movie_rating_tagss"
   ]
  },
  {
   "cell_type": "code",
   "execution_count": 71,
   "id": "ed394714",
   "metadata": {},
   "outputs": [],
   "source": [
    "ratings = get_movie_rating(doc)"
   ]
  },
  {
   "cell_type": "code",
   "execution_count": 94,
   "id": "5a147c9a",
   "metadata": {},
   "outputs": [
    {
     "data": {
      "text/plain": [
       "['9.3', '9.2', '9.0', '9.0', '9.0']"
      ]
     },
     "execution_count": 94,
     "metadata": {},
     "output_type": "execute_result"
    }
   ],
   "source": [
    "ratings[:5]"
   ]
  },
  {
   "cell_type": "code",
   "execution_count": 105,
   "id": "589f4a1e",
   "metadata": {},
   "outputs": [],
   "source": [
    "def all_pages():\n",
    "# Let's we create a dictionary to store data of all movies\n",
    "    movies_dict={\n",
    "        'title':[],    \n",
    "        'rating':[],\n",
    "        'year':[],\n",
    "       \n",
    "    }\n",
    "  # We have to scrap more than one page so we want urls of all pages with the help of loop we can get all urls\n",
    "    for i in range(1,2000,100):\n",
    "       \n",
    "        try:\n",
    "            url = 'https://www.imdb.com/search/title/?groups=top_100&sort=user_rating,desc'\n",
    "            response = requests.get(url)\n",
    "        except:\n",
    "            break\n",
    "        \n",
    "        if response.status_code != 200:\n",
    "            break\n",
    "           \n",
    "    # Parse using BeautifulSoup\n",
    "        doc = BeautifulSoup(response.text, 'html.parser')\n",
    "        titles = get_movie_titles(doc)\n",
    "       \n",
    "       \n",
    "        ratings = get_movie_rating(doc)\n",
    "       \n",
    "        years = get_movie_year(doc)\n",
    "      \n",
    "    \n",
    "        \n",
    "    # We are adding every movie data to dictionary\n",
    "        for i in range(len(titles)):\n",
    "            movies_dict['title'].append(titles[i])\n",
    "         \n",
    "         \n",
    "            movies_dict['rating'].append(ratings[i])\n",
    "            movies_dict['year'].append(years[i])\n",
    "           \n",
    "        \n",
    "    return pd.DataFrame(movies_dict)"
   ]
  },
  {
   "cell_type": "code",
   "execution_count": 101,
   "id": "b9db7b0b",
   "metadata": {},
   "outputs": [],
   "source": [
    "movies_dict={\n",
    "    'title':titles,\n",
    "    'rating':ratings,\n",
    "    'year':years,\n",
    "    \n",
    "}"
   ]
  },
  {
   "cell_type": "code",
   "execution_count": 102,
   "id": "1f6e491b",
   "metadata": {},
   "outputs": [
    {
     "data": {
      "text/plain": [
       "{'title': ['The Shawshank Redemption',\n",
       "  'The Godfather',\n",
       "  'The Dark Knight',\n",
       "  'The Lord of the Rings: The Return of the King',\n",
       "  \"Schindler's List\",\n",
       "  'The Godfather Part II',\n",
       "  '12 Angry Men',\n",
       "  'Pulp Fiction',\n",
       "  'Inception',\n",
       "  'The Lord of the Rings: The Two Towers',\n",
       "  'Fight Club',\n",
       "  'The Lord of the Rings: The Fellowship of the Ring',\n",
       "  'Forrest Gump',\n",
       "  'Il buono, il brutto, il cattivo',\n",
       "  'The Matrix',\n",
       "  'Goodfellas',\n",
       "  'The Empire Strikes Back',\n",
       "  \"One Flew Over the Cuckoo's Nest\",\n",
       "  'Interstellar',\n",
       "  'Cidade de Deus',\n",
       "  'Sen to Chihiro no kamikakushi',\n",
       "  'Saving Private Ryan',\n",
       "  'The Green Mile',\n",
       "  'La vita è bella',\n",
       "  'Se7en',\n",
       "  'Terminator 2: Judgment Day',\n",
       "  'The Silence of the Lambs',\n",
       "  'Star Wars',\n",
       "  'Seppuku',\n",
       "  'Shichinin no samurai',\n",
       "  \"It's a Wonderful Life\",\n",
       "  'Gisaengchung',\n",
       "  'Whiplash',\n",
       "  'The Intouchables',\n",
       "  'The Prestige',\n",
       "  'The Departed',\n",
       "  'The Pianist',\n",
       "  'Gladiator',\n",
       "  'American History X',\n",
       "  'The Usual Suspects',\n",
       "  'Léon',\n",
       "  'The Lion King',\n",
       "  'Nuovo Cinema Paradiso',\n",
       "  'Hotaru no haka',\n",
       "  'Back to the Future',\n",
       "  'Apocalypse Now',\n",
       "  'Alien',\n",
       "  'Once Upon a Time in the West',\n",
       "  'Psycho',\n",
       "  'Rear Window'],\n",
       " 'rating': ['9.3',\n",
       "  '9.2',\n",
       "  '9.0',\n",
       "  '9.0',\n",
       "  '9.0',\n",
       "  '9.0',\n",
       "  '9.0',\n",
       "  '8.9',\n",
       "  '8.8',\n",
       "  '8.8',\n",
       "  '8.8',\n",
       "  '8.8',\n",
       "  '8.8',\n",
       "  '8.8',\n",
       "  '8.7',\n",
       "  '8.7',\n",
       "  '8.7',\n",
       "  '8.7',\n",
       "  '8.6',\n",
       "  '8.6',\n",
       "  '8.6',\n",
       "  '8.6',\n",
       "  '8.6',\n",
       "  '8.6',\n",
       "  '8.6',\n",
       "  '8.6',\n",
       "  '8.6',\n",
       "  '8.6',\n",
       "  '8.6',\n",
       "  '8.6',\n",
       "  '8.6',\n",
       "  '8.5',\n",
       "  '8.5',\n",
       "  '8.5',\n",
       "  '8.5',\n",
       "  '8.5',\n",
       "  '8.5',\n",
       "  '8.5',\n",
       "  '8.5',\n",
       "  '8.5',\n",
       "  '8.5',\n",
       "  '8.5',\n",
       "  '8.5',\n",
       "  '8.5',\n",
       "  '8.5',\n",
       "  '8.5',\n",
       "  '8.5',\n",
       "  '8.5',\n",
       "  '8.5',\n",
       "  '8.5'],\n",
       " 'year': ['1994',\n",
       "  '1972',\n",
       "  '2008',\n",
       "  '2003',\n",
       "  '1993',\n",
       "  '1974',\n",
       "  '1957',\n",
       "  '1994',\n",
       "  '2010',\n",
       "  '2002',\n",
       "  '1999',\n",
       "  '2001',\n",
       "  '1994',\n",
       "  '1966',\n",
       "  '1999',\n",
       "  '1990',\n",
       "  '1980',\n",
       "  '1975',\n",
       "  '2014',\n",
       "  '2002',\n",
       "  '2001',\n",
       "  '1998',\n",
       "  '1999',\n",
       "  '1997',\n",
       "  '1995',\n",
       "  '1991',\n",
       "  '1991',\n",
       "  '1977',\n",
       "  '1962',\n",
       "  '1954',\n",
       "  '1946',\n",
       "  '2019',\n",
       "  '2014',\n",
       "  '2011',\n",
       "  '2006',\n",
       "  '2006',\n",
       "  '2002',\n",
       "  '2000',\n",
       "  '1998',\n",
       "  '1995',\n",
       "  '1994',\n",
       "  '1994',\n",
       "  '1988',\n",
       "  '1988',\n",
       "  '1985',\n",
       "  '1979',\n",
       "  '1979',\n",
       "  '1968',\n",
       "  '1960',\n",
       "  '1954']}"
      ]
     },
     "execution_count": 102,
     "metadata": {},
     "output_type": "execute_result"
    }
   ],
   "source": [
    "movies_dict"
   ]
  },
  {
   "cell_type": "code",
   "execution_count": 103,
   "id": "00394077",
   "metadata": {},
   "outputs": [],
   "source": [
    "df = pd.DataFrame(movies_dict)"
   ]
  },
  {
   "cell_type": "code",
   "execution_count": 104,
   "id": "b7b71411",
   "metadata": {},
   "outputs": [
    {
     "data": {
      "text/html": [
       "<div>\n",
       "<style scoped>\n",
       "    .dataframe tbody tr th:only-of-type {\n",
       "        vertical-align: middle;\n",
       "    }\n",
       "\n",
       "    .dataframe tbody tr th {\n",
       "        vertical-align: top;\n",
       "    }\n",
       "\n",
       "    .dataframe thead th {\n",
       "        text-align: right;\n",
       "    }\n",
       "</style>\n",
       "<table border=\"1\" class=\"dataframe\">\n",
       "  <thead>\n",
       "    <tr style=\"text-align: right;\">\n",
       "      <th></th>\n",
       "      <th>title</th>\n",
       "      <th>rating</th>\n",
       "      <th>year</th>\n",
       "    </tr>\n",
       "  </thead>\n",
       "  <tbody>\n",
       "    <tr>\n",
       "      <th>0</th>\n",
       "      <td>The Shawshank Redemption</td>\n",
       "      <td>9.3</td>\n",
       "      <td>1994</td>\n",
       "    </tr>\n",
       "    <tr>\n",
       "      <th>1</th>\n",
       "      <td>The Godfather</td>\n",
       "      <td>9.2</td>\n",
       "      <td>1972</td>\n",
       "    </tr>\n",
       "    <tr>\n",
       "      <th>2</th>\n",
       "      <td>The Dark Knight</td>\n",
       "      <td>9.0</td>\n",
       "      <td>2008</td>\n",
       "    </tr>\n",
       "    <tr>\n",
       "      <th>3</th>\n",
       "      <td>The Lord of the Rings: The Return of the King</td>\n",
       "      <td>9.0</td>\n",
       "      <td>2003</td>\n",
       "    </tr>\n",
       "    <tr>\n",
       "      <th>4</th>\n",
       "      <td>Schindler's List</td>\n",
       "      <td>9.0</td>\n",
       "      <td>1993</td>\n",
       "    </tr>\n",
       "  </tbody>\n",
       "</table>\n",
       "</div>"
      ],
      "text/plain": [
       "                                           title rating  year\n",
       "0                       The Shawshank Redemption    9.3  1994\n",
       "1                                  The Godfather    9.2  1972\n",
       "2                                The Dark Knight    9.0  2008\n",
       "3  The Lord of the Rings: The Return of the King    9.0  2003\n",
       "4                               Schindler's List    9.0  1993"
      ]
     },
     "execution_count": 104,
     "metadata": {},
     "output_type": "execute_result"
    }
   ],
   "source": [
    "df.head()"
   ]
  },
  {
   "cell_type": "code",
   "execution_count": null,
   "id": "cf9fae23",
   "metadata": {},
   "outputs": [],
   "source": []
  }
 ],
 "metadata": {
  "kernelspec": {
   "display_name": "Python 3 (ipykernel)",
   "language": "python",
   "name": "python3"
  },
  "language_info": {
   "codemirror_mode": {
    "name": "ipython",
    "version": 3
   },
   "file_extension": ".py",
   "mimetype": "text/x-python",
   "name": "python",
   "nbconvert_exporter": "python",
   "pygments_lexer": "ipython3",
   "version": "3.9.13"
  }
 },
 "nbformat": 4,
 "nbformat_minor": 5
}
